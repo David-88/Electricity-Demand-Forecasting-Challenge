{
 "cells": [
  {
   "cell_type": "code",
   "execution_count": null,
   "metadata": {},
   "outputs": [],
   "source": [
    "import numpy as np\n",
    "import pandas as pd\n",
    "import lightgbm as lgb\n",
    "from sklearn.metrics import mean_squared_log_error, mean_absolute_error, mean_squared_error\n",
    "import tqdm\n",
    "import sys\n",
    "import os\n",
    "import gc\n",
    "import argparse\n",
    "import warnings\n",
    "warnings.filterwarnings('ignore')"
   ]
  },
  {
   "cell_type": "code",
   "execution_count": null,
   "metadata": {},
   "outputs": [],
   "source": [
    "train = pd.read_csv('./data/train.csv')\n",
    "test = pd.read_csv('./data/test.csv')"
   ]
  },
  {
   "cell_type": "code",
   "execution_count": null,
   "metadata": {},
   "outputs": [],
   "source": [
    "import matplotlib.pyplot as plt\n",
    "# 不同type类型对应target的柱状图\n",
    "type_target_df = train.groupby('type')['target'].mean().reset_index()\n",
    "plt.figure(figsize=(8, 4))\n",
    "plt.bar(type_target_df['type'], type_target_df['target'], color=['blue', 'green'])\n",
    "plt.xlabel('Type')\n",
    "plt.ylabel('Average Target Value')\n",
    "plt.title('Bar Chart of Target by Type')\n",
    "plt.show()"
   ]
  },
  {
   "cell_type": "code",
   "execution_count": null,
   "metadata": {},
   "outputs": [],
   "source": [
    "specific_id_df = train[train['id'] == '00037f39cf']\n",
    "plt.figure(figsize=(10, 5))\n",
    "plt.plot(specific_id_df['dt'], specific_id_df['target'], marker='o', linestyle='-')\n",
    "plt.xlabel('DateTime')\n",
    "plt.ylabel('Target Value')\n",
    "plt.title(\"Line Chart of Target for ID '00037f39cf'\")\n",
    "plt.show()"
   ]
  },
  {
   "cell_type": "code",
   "execution_count": null,
   "metadata": {},
   "outputs": [],
   "source": [
    "# 合并训练数据和测试数据，并进行排序\n",
    "data = pd.concat([test, train], axis=0, ignore_index=True)\n",
    "data = data.sort_values(['id','dt'], ascending=False).reset_index(drop=True)\n",
    "\n",
    "# 历史平移\n",
    "for i in range(10,30):\n",
    "    data[f'last{i}_target'] = data.groupby(['id'])['target'].shift(i)\n",
    "    \n",
    "# 窗口统计\n",
    "data[f'win3_mean_target'] = (data['last10_target'] + data['last11_target'] + data['last12_target']) / 3\n",
    "\n",
    "# 进行数据切分\n",
    "train = data[data.target.notnull()].reset_index(drop=True)\n",
    "test = data[data.target.isnull()].reset_index(drop=True)\n",
    "\n",
    "# 确定输入特征\n",
    "train_cols = [f for f in data.columns if f not in ['id','target']]"
   ]
  },
  {
   "cell_type": "code",
   "execution_count": null,
   "metadata": {},
   "outputs": [],
   "source": [
    "def time_model(lgb, train_df, test_df, cols):\n",
    "    # 训练集和验证集切分\n",
    "    trn_x, trn_y = train_df[train_df.dt>=31][cols], train_df[train_df.dt>=31]['target']\n",
    "    val_x, val_y = train_df[train_df.dt<=30][cols], train_df[train_df.dt<=30]['target']\n",
    "    # 构建模型输入数据\n",
    "    train_matrix = lgb.Dataset(trn_x, label=trn_y)\n",
    "    valid_matrix = lgb.Dataset(val_x, label=val_y)\n",
    "    # lightgbm参数\n",
    "    lgb_params = {\n",
    "        'boosting_type': 'gbdt',\n",
    "        'objective': 'regression',\n",
    "        'metric': 'mse',\n",
    "        'min_child_weight': 5,\n",
    "        'num_leaves': 2 ** 5,\n",
    "        'lambda_l2': 10,\n",
    "        'feature_fraction': 0.8,\n",
    "        'bagging_fraction': 0.8,\n",
    "        'bagging_freq': 4,\n",
    "        'learning_rate': 0.05,\n",
    "        'seed': 2024,\n",
    "        'nthread' : 16,\n",
    "        'verbose' : -1,\n",
    "    }\n",
    "    # 训练模型\n",
    "    model = lgb.train(lgb_params, train_matrix, 50000, valid_sets=[train_matrix, valid_matrix], \n",
    "                      categorical_feature=[], verbose_eval=500, early_stopping_rounds=500)\n",
    "    # 验证集和测试集结果预测\n",
    "    val_pred = model.predict(val_x, num_iteration=model.best_iteration)\n",
    "    test_pred = model.predict(test_df[cols], num_iteration=model.best_iteration)\n",
    "    # 离线分数评估\n",
    "    score = mean_squared_error(val_pred, val_y)\n",
    "    print(score)\n",
    "       \n",
    "    return val_pred, test_pred\n",
    "    \n",
    "lgb_oof, lgb_test = time_model(lgb, train, test, train_cols)\n",
    "\n",
    "# 保存结果文件到本地\n",
    "test['target'] = lgb_test\n",
    "test[['id','dt','target']].to_csv('submit.csv', index=None)"
   ]
  },
  {
   "cell_type": "code",
   "execution_count": null,
   "metadata": {},
   "outputs": [],
   "source": []
  }
 ],
 "metadata": {
  "language_info": {
   "name": "python"
  }
 },
 "nbformat": 4,
 "nbformat_minor": 2
}
