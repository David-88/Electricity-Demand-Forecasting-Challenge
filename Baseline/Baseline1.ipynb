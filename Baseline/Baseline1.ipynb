{
 "cells": [
  {
   "cell_type": "code",
   "execution_count": 1,
   "metadata": {},
   "outputs": [],
   "source": [
    "# 1. 导入需要用到的相关库\n",
    "# 导入 pandas 库，用于数据处理和分析\n",
    "import pandas as pd\n",
    "# 导入 numpy 库，用于科学计算和多维数组操作\n",
    "import numpy as np\n",
    "\n",
    "# 2. 读取训练集和测试集\n",
    "# 使用 read_csv() 函数从文件中读取训练集数据，文件名为 'train.csv'\n",
    "train = pd.read_csv('./data/dataset/train.csv')\n",
    "# 使用 read_csv() 函数从文件中读取测试集数据，文件名为 'train.csv'\n",
    "test = pd.read_csv('./data/dataset/test.csv')\n",
    "\n",
    "# 3. 计算训练数据最近11-20单位时间内对应id的目标均值\n",
    "target_mean = train[train['dt']<=20].groupby(['id'])['target'].mean().reset_index()\n",
    "\n",
    "# 4. 将target_mean作为测试集结果进行合并\n",
    "test = test.merge(target_mean, on=['id'], how='left')\n",
    "\n",
    "# 5. 保存结果文件到本地\n",
    "test[['id','dt','target']].to_csv('submit.csv', index=None)"
   ]
  },
  {
   "cell_type": "code",
   "execution_count": null,
   "metadata": {},
   "outputs": [],
   "source": []
  },
  {
   "cell_type": "code",
   "execution_count": null,
   "metadata": {},
   "outputs": [],
   "source": []
  }
 ],
 "metadata": {
  "kernelspec": {
   "display_name": "Python 3",
   "language": "python",
   "name": "python3"
  },
  "language_info": {
   "codemirror_mode": {
    "name": "ipython",
    "version": 3
   },
   "file_extension": ".py",
   "mimetype": "text/x-python",
   "name": "python",
   "nbconvert_exporter": "python",
   "pygments_lexer": "ipython3",
   "version": "3.12.4"
  }
 },
 "nbformat": 4,
 "nbformat_minor": 2
}
